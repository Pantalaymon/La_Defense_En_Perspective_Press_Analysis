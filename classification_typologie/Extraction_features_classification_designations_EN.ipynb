{
  "nbformat": 4,
  "nbformat_minor": 0,
  "metadata": {
    "colab": {
      "name": "EN_Extraction_features_typologie.ipynb",
      "provenance": [],
      "collapsed_sections": []
    },
    "kernelspec": {
      "name": "python3",
      "display_name": "Python 3"
    },
    "language_info": {
      "name": "python"
    }
  },
  "cells": [
    {
      "cell_type": "code",
      "metadata": {
        "id": "W8fhJvHzvYkj",
        "colab": {
          "base_uri": "https://localhost:8080/"
        },
        "outputId": "ef2360f0-2183-4c6e-b1b5-41f5bcb1c3c2"
      },
      "source": [
        "from google.colab import drive\n",
        "drive.mount(\"/content/drive\", force_remount=True)\n",
        "chemin = \"/content/drive/MyDrive/Stage Defense\"\n"
      ],
      "execution_count": null,
      "outputs": [
        {
          "output_type": "stream",
          "text": [
            "Mounted at /content/drive\n"
          ],
          "name": "stdout"
        }
      ]
    },
    {
      "cell_type": "code",
      "metadata": {
        "id": "fpK6bK2ZyhZa",
        "colab": {
          "base_uri": "https://localhost:8080/"
        },
        "outputId": "8b2c7014-3f63-4ef4-c88a-d353fcf58aab"
      },
      "source": [
        "!pip install spacy-transformers\n",
        "!python3 -m spacy download en_core_web_trf"
      ],
      "execution_count": null,
      "outputs": [
        {
          "output_type": "stream",
          "text": [
            "Collecting spacy-transformers\n",
            "  Downloading spacy_transformers-1.0.3-py2.py3-none-any.whl (39 kB)\n",
            "Requirement already satisfied: torch>=1.5.0 in /usr/local/lib/python3.7/dist-packages (from spacy-transformers) (1.9.0+cu102)\n",
            "Collecting spacy<4.0.0,>=3.0.0\n",
            "  Downloading spacy-3.1.1-cp37-cp37m-manylinux_2_17_x86_64.manylinux2014_x86_64.whl (6.4 MB)\n",
            "\u001b[K     |████████████████████████████████| 6.4 MB 6.5 MB/s \n",
            "\u001b[?25hCollecting spacy-alignments<1.0.0,>=0.7.2\n",
            "  Downloading spacy_alignments-0.8.3-cp37-cp37m-manylinux2014_x86_64.whl (998 kB)\n",
            "\u001b[K     |████████████████████████████████| 998 kB 66.2 MB/s \n",
            "\u001b[?25hCollecting srsly<3.0.0,>=2.4.0\n",
            "  Downloading srsly-2.4.1-cp37-cp37m-manylinux2014_x86_64.whl (456 kB)\n",
            "\u001b[K     |████████████████████████████████| 456 kB 71.3 MB/s \n",
            "\u001b[?25hCollecting transformers<4.7.0,>=3.4.0\n",
            "  Downloading transformers-4.6.1-py3-none-any.whl (2.2 MB)\n",
            "\u001b[K     |████████████████████████████████| 2.2 MB 63.4 MB/s \n",
            "\u001b[?25hRequirement already satisfied: preshed<3.1.0,>=3.0.2 in /usr/local/lib/python3.7/dist-packages (from spacy<4.0.0,>=3.0.0->spacy-transformers) (3.0.5)\n",
            "Collecting typer<0.4.0,>=0.3.0\n",
            "  Downloading typer-0.3.2-py3-none-any.whl (21 kB)\n",
            "Requirement already satisfied: numpy>=1.15.0 in /usr/local/lib/python3.7/dist-packages (from spacy<4.0.0,>=3.0.0->spacy-transformers) (1.19.5)\n",
            "Collecting pathy>=0.3.5\n",
            "  Downloading pathy-0.6.0-py3-none-any.whl (42 kB)\n",
            "\u001b[K     |████████████████████████████████| 42 kB 1.4 MB/s \n",
            "\u001b[?25hCollecting thinc<8.1.0,>=8.0.8\n",
            "  Downloading thinc-8.0.8-cp37-cp37m-manylinux_2_17_x86_64.manylinux2014_x86_64.whl (621 kB)\n",
            "\u001b[K     |████████████████████████████████| 621 kB 45.6 MB/s \n",
            "\u001b[?25hRequirement already satisfied: blis<0.8.0,>=0.4.0 in /usr/local/lib/python3.7/dist-packages (from spacy<4.0.0,>=3.0.0->spacy-transformers) (0.4.1)\n",
            "Requirement already satisfied: wasabi<1.1.0,>=0.8.1 in /usr/local/lib/python3.7/dist-packages (from spacy<4.0.0,>=3.0.0->spacy-transformers) (0.8.2)\n",
            "Requirement already satisfied: typing-extensions<4.0.0.0,>=3.7.4 in /usr/local/lib/python3.7/dist-packages (from spacy<4.0.0,>=3.0.0->spacy-transformers) (3.7.4.3)\n",
            "Collecting spacy-legacy<3.1.0,>=3.0.7\n",
            "  Downloading spacy_legacy-3.0.8-py2.py3-none-any.whl (14 kB)\n",
            "Requirement already satisfied: jinja2 in /usr/local/lib/python3.7/dist-packages (from spacy<4.0.0,>=3.0.0->spacy-transformers) (2.11.3)\n",
            "Requirement already satisfied: setuptools in /usr/local/lib/python3.7/dist-packages (from spacy<4.0.0,>=3.0.0->spacy-transformers) (57.2.0)\n",
            "Collecting pydantic!=1.8,!=1.8.1,<1.9.0,>=1.7.4\n",
            "  Downloading pydantic-1.8.2-cp37-cp37m-manylinux2014_x86_64.whl (10.1 MB)\n",
            "\u001b[K     |████████████████████████████████| 10.1 MB 45.3 MB/s \n",
            "\u001b[?25hRequirement already satisfied: murmurhash<1.1.0,>=0.28.0 in /usr/local/lib/python3.7/dist-packages (from spacy<4.0.0,>=3.0.0->spacy-transformers) (1.0.5)\n",
            "Requirement already satisfied: requests<3.0.0,>=2.13.0 in /usr/local/lib/python3.7/dist-packages (from spacy<4.0.0,>=3.0.0->spacy-transformers) (2.23.0)\n",
            "Requirement already satisfied: tqdm<5.0.0,>=4.38.0 in /usr/local/lib/python3.7/dist-packages (from spacy<4.0.0,>=3.0.0->spacy-transformers) (4.41.1)\n",
            "Collecting catalogue<2.1.0,>=2.0.4\n",
            "  Downloading catalogue-2.0.4-py3-none-any.whl (16 kB)\n",
            "Requirement already satisfied: cymem<2.1.0,>=2.0.2 in /usr/local/lib/python3.7/dist-packages (from spacy<4.0.0,>=3.0.0->spacy-transformers) (2.0.5)\n",
            "Requirement already satisfied: packaging>=20.0 in /usr/local/lib/python3.7/dist-packages (from spacy<4.0.0,>=3.0.0->spacy-transformers) (21.0)\n",
            "Requirement already satisfied: zipp>=0.5 in /usr/local/lib/python3.7/dist-packages (from catalogue<2.1.0,>=2.0.4->spacy<4.0.0,>=3.0.0->spacy-transformers) (3.5.0)\n",
            "Requirement already satisfied: pyparsing>=2.0.2 in /usr/local/lib/python3.7/dist-packages (from packaging>=20.0->spacy<4.0.0,>=3.0.0->spacy-transformers) (2.4.7)\n",
            "Requirement already satisfied: smart-open<6.0.0,>=5.0.0 in /usr/local/lib/python3.7/dist-packages (from pathy>=0.3.5->spacy<4.0.0,>=3.0.0->spacy-transformers) (5.1.0)\n",
            "Requirement already satisfied: urllib3!=1.25.0,!=1.25.1,<1.26,>=1.21.1 in /usr/local/lib/python3.7/dist-packages (from requests<3.0.0,>=2.13.0->spacy<4.0.0,>=3.0.0->spacy-transformers) (1.24.3)\n",
            "Requirement already satisfied: idna<3,>=2.5 in /usr/local/lib/python3.7/dist-packages (from requests<3.0.0,>=2.13.0->spacy<4.0.0,>=3.0.0->spacy-transformers) (2.10)\n",
            "Requirement already satisfied: chardet<4,>=3.0.2 in /usr/local/lib/python3.7/dist-packages (from requests<3.0.0,>=2.13.0->spacy<4.0.0,>=3.0.0->spacy-transformers) (3.0.4)\n",
            "Requirement already satisfied: certifi>=2017.4.17 in /usr/local/lib/python3.7/dist-packages (from requests<3.0.0,>=2.13.0->spacy<4.0.0,>=3.0.0->spacy-transformers) (2021.5.30)\n",
            "Collecting sacremoses\n",
            "  Downloading sacremoses-0.0.45-py3-none-any.whl (895 kB)\n",
            "\u001b[K     |████████████████████████████████| 895 kB 34.4 MB/s \n",
            "\u001b[?25hCollecting tokenizers<0.11,>=0.10.1\n",
            "  Downloading tokenizers-0.10.3-cp37-cp37m-manylinux_2_5_x86_64.manylinux1_x86_64.manylinux_2_12_x86_64.manylinux2010_x86_64.whl (3.3 MB)\n",
            "\u001b[K     |████████████████████████████████| 3.3 MB 41.3 MB/s \n",
            "\u001b[?25hRequirement already satisfied: importlib-metadata in /usr/local/lib/python3.7/dist-packages (from transformers<4.7.0,>=3.4.0->spacy-transformers) (4.6.1)\n",
            "Requirement already satisfied: regex!=2019.12.17 in /usr/local/lib/python3.7/dist-packages (from transformers<4.7.0,>=3.4.0->spacy-transformers) (2019.12.20)\n",
            "Collecting huggingface-hub==0.0.8\n",
            "  Downloading huggingface_hub-0.0.8-py3-none-any.whl (34 kB)\n",
            "Requirement already satisfied: filelock in /usr/local/lib/python3.7/dist-packages (from transformers<4.7.0,>=3.4.0->spacy-transformers) (3.0.12)\n",
            "Requirement already satisfied: click<7.2.0,>=7.1.1 in /usr/local/lib/python3.7/dist-packages (from typer<0.4.0,>=0.3.0->spacy<4.0.0,>=3.0.0->spacy-transformers) (7.1.2)\n",
            "Requirement already satisfied: MarkupSafe>=0.23 in /usr/local/lib/python3.7/dist-packages (from jinja2->spacy<4.0.0,>=3.0.0->spacy-transformers) (2.0.1)\n",
            "Requirement already satisfied: joblib in /usr/local/lib/python3.7/dist-packages (from sacremoses->transformers<4.7.0,>=3.4.0->spacy-transformers) (1.0.1)\n",
            "Requirement already satisfied: six in /usr/local/lib/python3.7/dist-packages (from sacremoses->transformers<4.7.0,>=3.4.0->spacy-transformers) (1.15.0)\n",
            "Installing collected packages: catalogue, typer, srsly, pydantic, tokenizers, thinc, spacy-legacy, sacremoses, pathy, huggingface-hub, transformers, spacy-alignments, spacy, spacy-transformers\n",
            "  Attempting uninstall: catalogue\n",
            "    Found existing installation: catalogue 1.0.0\n",
            "    Uninstalling catalogue-1.0.0:\n",
            "      Successfully uninstalled catalogue-1.0.0\n",
            "  Attempting uninstall: srsly\n",
            "    Found existing installation: srsly 1.0.5\n",
            "    Uninstalling srsly-1.0.5:\n",
            "      Successfully uninstalled srsly-1.0.5\n",
            "  Attempting uninstall: thinc\n",
            "    Found existing installation: thinc 7.4.0\n",
            "    Uninstalling thinc-7.4.0:\n",
            "      Successfully uninstalled thinc-7.4.0\n",
            "  Attempting uninstall: spacy\n",
            "    Found existing installation: spacy 2.2.4\n",
            "    Uninstalling spacy-2.2.4:\n",
            "      Successfully uninstalled spacy-2.2.4\n",
            "Successfully installed catalogue-2.0.4 huggingface-hub-0.0.8 pathy-0.6.0 pydantic-1.8.2 sacremoses-0.0.45 spacy-3.1.1 spacy-alignments-0.8.3 spacy-legacy-3.0.8 spacy-transformers-1.0.3 srsly-2.4.1 thinc-8.0.8 tokenizers-0.10.3 transformers-4.6.1 typer-0.3.2\n",
            "2021-07-22 14:44:46.236115: I tensorflow/stream_executor/platform/default/dso_loader.cc:53] Successfully opened dynamic library libcudart.so.11.0\n",
            "Collecting en-core-web-trf==3.1.0\n",
            "  Downloading https://github.com/explosion/spacy-models/releases/download/en_core_web_trf-3.1.0/en_core_web_trf-3.1.0-py3-none-any.whl (460.2 MB)\n",
            "\u001b[K     |████████████████████████████████| 460.2 MB 8.4 kB/s \n",
            "\u001b[?25hRequirement already satisfied: spacy<3.2.0,>=3.1.0 in /usr/local/lib/python3.7/dist-packages (from en-core-web-trf==3.1.0) (3.1.1)\n",
            "Requirement already satisfied: spacy-transformers<1.1.0,>=1.0.3 in /usr/local/lib/python3.7/dist-packages (from en-core-web-trf==3.1.0) (1.0.3)\n",
            "Requirement already satisfied: packaging>=20.0 in /usr/local/lib/python3.7/dist-packages (from spacy<3.2.0,>=3.1.0->en-core-web-trf==3.1.0) (21.0)\n",
            "Requirement already satisfied: typing-extensions<4.0.0.0,>=3.7.4 in /usr/local/lib/python3.7/dist-packages (from spacy<3.2.0,>=3.1.0->en-core-web-trf==3.1.0) (3.7.4.3)\n",
            "Requirement already satisfied: pathy>=0.3.5 in /usr/local/lib/python3.7/dist-packages (from spacy<3.2.0,>=3.1.0->en-core-web-trf==3.1.0) (0.6.0)\n",
            "Requirement already satisfied: thinc<8.1.0,>=8.0.8 in /usr/local/lib/python3.7/dist-packages (from spacy<3.2.0,>=3.1.0->en-core-web-trf==3.1.0) (8.0.8)\n",
            "Requirement already satisfied: typer<0.4.0,>=0.3.0 in /usr/local/lib/python3.7/dist-packages (from spacy<3.2.0,>=3.1.0->en-core-web-trf==3.1.0) (0.3.2)\n",
            "Requirement already satisfied: setuptools in /usr/local/lib/python3.7/dist-packages (from spacy<3.2.0,>=3.1.0->en-core-web-trf==3.1.0) (57.2.0)\n",
            "Requirement already satisfied: wasabi<1.1.0,>=0.8.1 in /usr/local/lib/python3.7/dist-packages (from spacy<3.2.0,>=3.1.0->en-core-web-trf==3.1.0) (0.8.2)\n",
            "Requirement already satisfied: srsly<3.0.0,>=2.4.1 in /usr/local/lib/python3.7/dist-packages (from spacy<3.2.0,>=3.1.0->en-core-web-trf==3.1.0) (2.4.1)\n",
            "Requirement already satisfied: spacy-legacy<3.1.0,>=3.0.7 in /usr/local/lib/python3.7/dist-packages (from spacy<3.2.0,>=3.1.0->en-core-web-trf==3.1.0) (3.0.8)\n",
            "Requirement already satisfied: pydantic!=1.8,!=1.8.1,<1.9.0,>=1.7.4 in /usr/local/lib/python3.7/dist-packages (from spacy<3.2.0,>=3.1.0->en-core-web-trf==3.1.0) (1.8.2)\n",
            "Requirement already satisfied: cymem<2.1.0,>=2.0.2 in /usr/local/lib/python3.7/dist-packages (from spacy<3.2.0,>=3.1.0->en-core-web-trf==3.1.0) (2.0.5)\n",
            "Requirement already satisfied: numpy>=1.15.0 in /usr/local/lib/python3.7/dist-packages (from spacy<3.2.0,>=3.1.0->en-core-web-trf==3.1.0) (1.19.5)\n",
            "Requirement already satisfied: blis<0.8.0,>=0.4.0 in /usr/local/lib/python3.7/dist-packages (from spacy<3.2.0,>=3.1.0->en-core-web-trf==3.1.0) (0.4.1)\n",
            "Requirement already satisfied: catalogue<2.1.0,>=2.0.4 in /usr/local/lib/python3.7/dist-packages (from spacy<3.2.0,>=3.1.0->en-core-web-trf==3.1.0) (2.0.4)\n",
            "Requirement already satisfied: jinja2 in /usr/local/lib/python3.7/dist-packages (from spacy<3.2.0,>=3.1.0->en-core-web-trf==3.1.0) (2.11.3)\n",
            "Requirement already satisfied: preshed<3.1.0,>=3.0.2 in /usr/local/lib/python3.7/dist-packages (from spacy<3.2.0,>=3.1.0->en-core-web-trf==3.1.0) (3.0.5)\n",
            "Requirement already satisfied: requests<3.0.0,>=2.13.0 in /usr/local/lib/python3.7/dist-packages (from spacy<3.2.0,>=3.1.0->en-core-web-trf==3.1.0) (2.23.0)\n",
            "Requirement already satisfied: tqdm<5.0.0,>=4.38.0 in /usr/local/lib/python3.7/dist-packages (from spacy<3.2.0,>=3.1.0->en-core-web-trf==3.1.0) (4.41.1)\n",
            "Requirement already satisfied: murmurhash<1.1.0,>=0.28.0 in /usr/local/lib/python3.7/dist-packages (from spacy<3.2.0,>=3.1.0->en-core-web-trf==3.1.0) (1.0.5)\n",
            "Requirement already satisfied: zipp>=0.5 in /usr/local/lib/python3.7/dist-packages (from catalogue<2.1.0,>=2.0.4->spacy<3.2.0,>=3.1.0->en-core-web-trf==3.1.0) (3.5.0)\n",
            "Requirement already satisfied: pyparsing>=2.0.2 in /usr/local/lib/python3.7/dist-packages (from packaging>=20.0->spacy<3.2.0,>=3.1.0->en-core-web-trf==3.1.0) (2.4.7)\n",
            "Requirement already satisfied: smart-open<6.0.0,>=5.0.0 in /usr/local/lib/python3.7/dist-packages (from pathy>=0.3.5->spacy<3.2.0,>=3.1.0->en-core-web-trf==3.1.0) (5.1.0)\n",
            "Requirement already satisfied: urllib3!=1.25.0,!=1.25.1,<1.26,>=1.21.1 in /usr/local/lib/python3.7/dist-packages (from requests<3.0.0,>=2.13.0->spacy<3.2.0,>=3.1.0->en-core-web-trf==3.1.0) (1.24.3)\n",
            "Requirement already satisfied: chardet<4,>=3.0.2 in /usr/local/lib/python3.7/dist-packages (from requests<3.0.0,>=2.13.0->spacy<3.2.0,>=3.1.0->en-core-web-trf==3.1.0) (3.0.4)\n",
            "Requirement already satisfied: idna<3,>=2.5 in /usr/local/lib/python3.7/dist-packages (from requests<3.0.0,>=2.13.0->spacy<3.2.0,>=3.1.0->en-core-web-trf==3.1.0) (2.10)\n",
            "Requirement already satisfied: certifi>=2017.4.17 in /usr/local/lib/python3.7/dist-packages (from requests<3.0.0,>=2.13.0->spacy<3.2.0,>=3.1.0->en-core-web-trf==3.1.0) (2021.5.30)\n",
            "Requirement already satisfied: spacy-alignments<1.0.0,>=0.7.2 in /usr/local/lib/python3.7/dist-packages (from spacy-transformers<1.1.0,>=1.0.3->en-core-web-trf==3.1.0) (0.8.3)\n",
            "Requirement already satisfied: transformers<4.7.0,>=3.4.0 in /usr/local/lib/python3.7/dist-packages (from spacy-transformers<1.1.0,>=1.0.3->en-core-web-trf==3.1.0) (4.6.1)\n",
            "Requirement already satisfied: torch>=1.5.0 in /usr/local/lib/python3.7/dist-packages (from spacy-transformers<1.1.0,>=1.0.3->en-core-web-trf==3.1.0) (1.9.0+cu102)\n",
            "Requirement already satisfied: sacremoses in /usr/local/lib/python3.7/dist-packages (from transformers<4.7.0,>=3.4.0->spacy-transformers<1.1.0,>=1.0.3->en-core-web-trf==3.1.0) (0.0.45)\n",
            "Requirement already satisfied: filelock in /usr/local/lib/python3.7/dist-packages (from transformers<4.7.0,>=3.4.0->spacy-transformers<1.1.0,>=1.0.3->en-core-web-trf==3.1.0) (3.0.12)\n",
            "Requirement already satisfied: tokenizers<0.11,>=0.10.1 in /usr/local/lib/python3.7/dist-packages (from transformers<4.7.0,>=3.4.0->spacy-transformers<1.1.0,>=1.0.3->en-core-web-trf==3.1.0) (0.10.3)\n",
            "Requirement already satisfied: huggingface-hub==0.0.8 in /usr/local/lib/python3.7/dist-packages (from transformers<4.7.0,>=3.4.0->spacy-transformers<1.1.0,>=1.0.3->en-core-web-trf==3.1.0) (0.0.8)\n",
            "Requirement already satisfied: importlib-metadata in /usr/local/lib/python3.7/dist-packages (from transformers<4.7.0,>=3.4.0->spacy-transformers<1.1.0,>=1.0.3->en-core-web-trf==3.1.0) (4.6.1)\n",
            "Requirement already satisfied: regex!=2019.12.17 in /usr/local/lib/python3.7/dist-packages (from transformers<4.7.0,>=3.4.0->spacy-transformers<1.1.0,>=1.0.3->en-core-web-trf==3.1.0) (2019.12.20)\n",
            "Requirement already satisfied: click<7.2.0,>=7.1.1 in /usr/local/lib/python3.7/dist-packages (from typer<0.4.0,>=0.3.0->spacy<3.2.0,>=3.1.0->en-core-web-trf==3.1.0) (7.1.2)\n",
            "Requirement already satisfied: MarkupSafe>=0.23 in /usr/local/lib/python3.7/dist-packages (from jinja2->spacy<3.2.0,>=3.1.0->en-core-web-trf==3.1.0) (2.0.1)\n",
            "Requirement already satisfied: joblib in /usr/local/lib/python3.7/dist-packages (from sacremoses->transformers<4.7.0,>=3.4.0->spacy-transformers<1.1.0,>=1.0.3->en-core-web-trf==3.1.0) (1.0.1)\n",
            "Requirement already satisfied: six in /usr/local/lib/python3.7/dist-packages (from sacremoses->transformers<4.7.0,>=3.4.0->spacy-transformers<1.1.0,>=1.0.3->en-core-web-trf==3.1.0) (1.15.0)\n",
            "Installing collected packages: en-core-web-trf\n",
            "Successfully installed en-core-web-trf-3.1.0\n",
            "\u001b[38;5;2m✔ Download and installation successful\u001b[0m\n",
            "You can now load the package via spacy.load('en_core_web_trf')\n"
          ],
          "name": "stdout"
        }
      ]
    },
    {
      "cell_type": "code",
      "metadata": {
        "id": "GfBulrfExZOQ"
      },
      "source": [
        "import re\n",
        "\n",
        "import pandas as pd\n",
        "import numpy as np\n",
        "\n",
        "\n",
        "from sklearn.feature_extraction.text import TfidfVectorizer\n",
        "\n",
        "import nltk\n",
        "from nltk.corpus import stopwords\n",
        "import spacy\n",
        "\n",
        "import gensim\n",
        "import gensim.downloader"
      ],
      "execution_count": null,
      "outputs": []
    },
    {
      "cell_type": "code",
      "metadata": {
        "id": "qcP9_0ZH2-Ol"
      },
      "source": [
        "chemin = \"/content/drive/MyDrive/Stage Defense\"\n",
        "nlp = spacy.load('en_core_web_trf')\n",
        "cheminmodeleW2V = chemin+\"/Ressources/frWac_no_postag_no_phrase_500_cbow_cut100.bin\"\n",
        "model_w2v  = gensim.downloader.load('fasttext-wiki-news-subwords-300')\n"
      ],
      "execution_count": null,
      "outputs": []
    },
    {
      "cell_type": "code",
      "metadata": {
        "id": "UjXM2XgbxekJ",
        "colab": {
          "base_uri": "https://localhost:8080/"
        },
        "outputId": "4ab1e74a-85dd-4057-a959-09267be1e0b3"
      },
      "source": [
        "nltk.download('stopwords')\n",
        "# stopwords de nltk\n",
        "nltk_stopwords = set(stopwords.words('english'))"
      ],
      "execution_count": null,
      "outputs": [
        {
          "output_type": "stream",
          "text": [
            "[nltk_data] Downloading package stopwords to /root/nltk_data...\n",
            "[nltk_data]   Unzipping corpora/stopwords.zip.\n"
          ],
          "name": "stdout"
        }
      ]
    },
    {
      "cell_type": "code",
      "metadata": {
        "id": "c4W_ild50jO3"
      },
      "source": [
        "chemin = \"/content/drive/MyDrive/Stage Defense\"\n",
        "chemindata = chemin+\"/Corpus/Toutes_mentions_Defense_EN.csv\""
      ],
      "execution_count": null,
      "outputs": []
    },
    {
      "cell_type": "markdown",
      "metadata": {
        "id": "T6NNlOOr0_mX"
      },
      "source": [
        "# Pré-traitement corpus"
      ]
    },
    {
      "cell_type": "code",
      "metadata": {
        "id": "9AbjUdUQ1EMa"
      },
      "source": [
        "df = pd.read_csv(chemindata,sep=\",\", index_col=0, keep_default_na=False,na_values=[\"NA\"])"
      ],
      "execution_count": null,
      "outputs": []
    },
    {
      "cell_type": "code",
      "metadata": {
        "id": "1MXScErM4op0"
      },
      "source": [
        "df = df[~(df.cible_contexte.isin([\"\"]))&(~df.procédé_de_nommage.isin([\"\",np.NAN]))]"
      ],
      "execution_count": null,
      "outputs": []
    },
    {
      "cell_type": "markdown",
      "metadata": {
        "id": "tTRMu_np9rno"
      },
      "source": [
        "mention"
      ]
    },
    {
      "cell_type": "markdown",
      "metadata": {
        "id": "hbY4CTKsy0-8"
      },
      "source": [
        "# word2vec"
      ]
    },
    {
      "cell_type": "markdown",
      "metadata": {
        "id": "QxvT8RmMSv-8"
      },
      "source": [
        "mention"
      ]
    },
    {
      "cell_type": "code",
      "metadata": {
        "id": "uvjxKIVfky4g"
      },
      "source": [
        "def cree_vecteurs_designations(df):\n",
        "  liste_vecteurs_m = []\n",
        "  for mention in df.mention:\n",
        "    doc = nlp(mention)\n",
        "    if \"défense\" in mention.lower():\n",
        "      print(\"BRUT\",mention)\n",
        "    lemmes = [t.lemma_ for t in doc if t.lemma_ not in nltk_stopwords|{\"défense\",\"defense\"}]\n",
        "    array_vec = np.array([model_frWac[lem] for lem in lemmes if (lem in model_frWac.vocab )])\n",
        "    #print(array_vec.shape)\n",
        "    if not array_vec.any():\n",
        "      array_vec = np.zeros((1,500))\n",
        "    array_moy = np.mean(array_vec,axis=0)\n",
        "    liste_vecteurs_m.append(array_moy)\n",
        "  return liste_vecteurs_m \n"
      ],
      "execution_count": null,
      "outputs": []
    },
    {
      "cell_type": "code",
      "metadata": {
        "id": "6a61AvszEwzI"
      },
      "source": [
        "liste_vecteurs_m = cree_vecteurs_designations(df)\n",
        "df_mention_w2v =  pd.DataFrame(liste_vecteurs_m,index=df.index)"
      ],
      "execution_count": null,
      "outputs": []
    },
    {
      "cell_type": "code",
      "metadata": {
        "id": "87guukoKky4h"
      },
      "source": [
        "df_w2v = df_mention_w2v"
      ],
      "execution_count": null,
      "outputs": []
    },
    {
      "cell_type": "code",
      "metadata": {
        "id": "sKPO77V02UT3"
      },
      "source": [
        " df_w2v.columns = list(range(len(df_w2v.columns)))"
      ],
      "execution_count": null,
      "outputs": []
    },
    {
      "cell_type": "code",
      "metadata": {
        "id": "VdZikZl4UOJ8"
      },
      "source": [
        "df_w2v.to_csv(chemin+\"/Corpus/W2V_EN_mentions_Defense.csv\",sep=\",\")"
      ],
      "execution_count": null,
      "outputs": []
    },
    {
      "cell_type": "markdown",
      "metadata": {
        "id": "HrR_NN78y3tO"
      },
      "source": [
        "#Features generation"
      ]
    },
    {
      "cell_type": "code",
      "metadata": {
        "id": "sqIdzhT_oLdP"
      },
      "source": [
        "\n",
        "import gensim\n",
        "from sklearn.metrics.pairwise import cosine_similarity \n",
        "import re"
      ],
      "execution_count": null,
      "outputs": []
    },
    {
      "cell_type": "code",
      "metadata": {
        "id": "M2KkTrW6oPtU"
      },
      "source": [
        "def moyenne_vecteurs(liste_mots):\n",
        "  liste_vecteurs = []\n",
        "  for mot in liste_mots:\n",
        "    if mot in model_w2v.vocab:\n",
        "      liste_vecteurs.append(model_w2v[mot])\n",
        "  print(len(liste_vecteurs))\n",
        "  return np.mean(np.array(liste_vecteurs),axis=0)"
      ],
      "execution_count": null,
      "outputs": []
    },
    {
      "cell_type": "code",
      "metadata": {
        "id": "JQmAdgxpn6IB"
      },
      "source": [
        "def normalise(char):\n",
        "  char = re.sub(\"[],\\-\\n;&]\", \" \" , char)\n",
        "  return char.lower()"
      ],
      "execution_count": null,
      "outputs": []
    },
    {
      "cell_type": "code",
      "metadata": {
        "id": "zzvJpIHo1i5F"
      },
      "source": [
        "def normalise_mention(men):\n",
        "  #men = men.lower()\n",
        "  men = re.sub(\"^-\",\"\",men)\n",
        "  men = men.replace(\"(\",\" (\")\n",
        "  men = men.replace(\")\",\")\")\n",
        "  return re.sub(\"\\s+\",\" \",men).strip()"
      ],
      "execution_count": null,
      "outputs": []
    },
    {
      "cell_type": "code",
      "metadata": {
        "id": "xTkCcLTChQsz"
      },
      "source": [
        "def detecte_norme(mention):\n",
        "  stopwords = nltk_stopwords | {\"la\",\"La\"}\n",
        "  if \"défense\" in mention.lower() or \"defense\" in mention.lower():\n",
        "    doc = nlp(normalise(mention))\n",
        "    #print(mention)\n",
        "    lemmes = [t.lemma_ for t in doc if t.lemma_ not in stopwords and re.match(\"\\w+\",t.lemma_)]\n",
        "    #print(lemmes)\n",
        "    if lemmes in  [[\"défense\"],[\"defense\"]]:\n",
        "      return 1\n",
        "  return 0"
      ],
      "execution_count": null,
      "outputs": []
    },
    {
      "cell_type": "code",
      "metadata": {
        "id": "aKDocknNjeLs"
      },
      "source": [
        "def cos_sim(a,b):\n",
        "  return cosine_similarity(a.reshape(1, -1),b.reshape(1, -1))[0][0]"
      ],
      "execution_count": null,
      "outputs": []
    },
    {
      "cell_type": "code",
      "metadata": {
        "id": "rkpxWMW7flLQ"
      },
      "source": [
        "def contient_ordinal(mention):\n",
        "  \n",
        "  if ordinal.search(mention.lower()):\n",
        "    return 1\n",
        "  return 0"
      ],
      "execution_count": null,
      "outputs": []
    },
    {
      "cell_type": "code",
      "metadata": {
        "id": "vho86jEmfot5"
      },
      "source": [
        "def contient_superlatif(mention):\n",
        "  \n",
        "  if any(super in mention.lower() for super in set_superlatifs) or any([superlatif.match(t.text) for t in nlp(mention) if t.pos_ == 'ADJ']):\n",
        "    return 1\n",
        "  return 0"
      ],
      "execution_count": null,
      "outputs": []
    },
    {
      "cell_type": "code",
      "metadata": {
        "id": "HjAnKBISfSYN"
      },
      "source": [
        "def contient_lieu_geo(mention,vecteur_lieu,vecteur_geo):\n",
        "  #if True or \"laboratoire\" not in mention and \"mélange\" not in mention: return 0,0,0,0,0\n",
        "  #ajouter est type de lieu. Seuil = 0.30 Regarder tous les noms\n",
        "  doc = nlp(mention)\n",
        "  #print(doc[1].dep_)\n",
        "  lieu,geo = 0,0\n",
        "  sim_tete_lieu, sim_tete_geo,sim_tete_norme = 0,0,0\n",
        "  for tok in doc:\n",
        "    #print(tok,tok.pos_, tok.dep_, tok.tag_)\n",
        "    lemme = tok.text\n",
        "    \n",
        "    if lemme in model_w2v:\n",
        "      sim_lieu = cos_sim(model_w2v[lemme],vecteur_lieu)\n",
        "      sim_geo = cos_sim(model_w2v[lemme],vecteur_geo)\n",
        "      #print(lemme, sim_lieu,sim_geo)\n",
        "\n",
        "      if (tok.dep_ == \"ROOT\" and all([tok.dep_ != \"appos\" for tok in doc ])) or tok.dep_ == \"appos\":\n",
        "        #print(tok,tok.dep_, \"|\",mention)\n",
        "        sim_tete_lieu = sim_lieu\n",
        "        sim_tete_geo = sim_geo\n",
        "        sim_tete_norme = cos_sim(model_w2v[lemme],model_w2v[\"Défense\"])\n",
        "      if lemme.lower() in [\"the\"]:continue\n",
        "      if sim_geo > 0.55 :\n",
        "        geo = 1\n",
        "\n",
        "      if sim_lieu > 0.55 and tok.pos_ in {\"NOUN\",\"PROPN\"}:\n",
        "        lieu = 1\n",
        "\n",
        "\n",
        "  if sim_tete_lieu == 0:\n",
        "    print(mention, [t for t in doc if t.dep_ == \"ROOT\"])\n",
        "  return lieu,geo, sim_tete_lieu, sim_tete_geo,sim_tete_norme\n"
      ],
      "execution_count": null,
      "outputs": []
    },
    {
      "cell_type": "code",
      "metadata": {
        "id": "6Yp4VaTl7Va3"
      },
      "source": [
        "def contient_guillemet(mention):\n",
        "\n",
        "  return int('\"' in mention or '»' in mention or '«' in mention)"
      ],
      "execution_count": null,
      "outputs": []
    },
    {
      "cell_type": "code",
      "metadata": {
        "id": "i-ajFJJDFrMR"
      },
      "source": [
        "set_superlatifs = {\"most\",\"best\",\"least\",\"worst\",\"favourite\"}"
      ],
      "execution_count": null,
      "outputs": []
    },
    {
      "cell_type": "code",
      "metadata": {
        "id": "5m0_Tv7dJdnJ"
      },
      "source": [
        "superlatif = re.compile(\"\\w+est$\")"
      ],
      "execution_count": null,
      "outputs": []
    },
    {
      "cell_type": "code",
      "metadata": {
        "id": "8aZmv_MiFlPC"
      },
      "source": [
        "ordinal = re.compile(\"(first)|(second)|(third)((four)|((fif)|(six)|(seven)|(eigh)|(nine?)|(ten)|(eleven)|(twelf)|(teen)|(tie)|(hundred)|(thousand))th)\")"
      ],
      "execution_count": null,
      "outputs": []
    },
    {
      "cell_type": "code",
      "metadata": {
        "id": "NakyECY8obO_"
      },
      "source": [
        "types_lieux = {\"quartier\",\"zone\",\"lieu\",\"espace\",\"endroit\",\"ville\",\"localité\",\"village\",\"commune\",\"agglomération\",\"bourgade\",\"cité\",\"ghetto\",\"arrondissement\",\"terrain\",\"surface\"}\n",
        "types_lieux = {\"district\",\"space\",\"area\",\"place\",\"city\",\"suburb\",\"location\",\"village\",\"city\",\"neighbourhood\",\"turf\",\"locality\",\"sector\"}\n",
        "geos = {\"france\",\"europe\",\"européen\",\"hauts-de-seine\",\"continental\",\"continent\",\"français\",\"paris\",\"parisien\"\"européen\",\"francilien\",\"parisien\",\"puteaux\",\"nanterre\",\"nanterrien\",\"putéolien\",\"courbevoie\",\"courbevoisien\",\"garenne-colombes\",\"seine\"}\n",
        "geos= {\"France\",\"french\",\"Europe\",\"european\",\"continent\",\"continental\",\"Paris\",\"parisian\",\"Nanterre\",\"Puteaux\",\"Courbevoie\",\"Hauts-de-Seine\",\"Île-de-France\",\"Garenne-Colombes\",\"Seine\",\"west\",\"western\"}"
      ],
      "execution_count": null,
      "outputs": []
    },
    {
      "cell_type": "code",
      "metadata": {
        "colab": {
          "base_uri": "https://localhost:8080/"
        },
        "id": "V4eDzobioE1q",
        "outputId": "7b369ed4-fa3e-4e51-a2b5-75d2a41be9da"
      },
      "source": [
        "vecteur_lieu = moyenne_vecteurs(types_lieux)\n",
        "vecteur_geo =  moyenne_vecteurs(geos)"
      ],
      "execution_count": null,
      "outputs": [
        {
          "output_type": "stream",
          "text": [
            "12\n",
            "16\n"
          ],
          "name": "stdout"
        }
      ]
    },
    {
      "cell_type": "code",
      "metadata": {
        "colab": {
          "base_uri": "https://localhost:8080/"
        },
        "id": "POLiK44VXHht",
        "outputId": "0d77ffdc-d78b-4a9b-b1a1-376a0448c355"
      },
      "source": [
        "cos_sim(model_w2v[\"beacon\"],vecteur_geo)"
      ],
      "execution_count": null,
      "outputs": [
        {
          "output_type": "execute_result",
          "data": {
            "text/plain": [
              "0.30446997"
            ]
          },
          "metadata": {
            "tags": []
          },
          "execution_count": 114
        }
      ]
    },
    {
      "cell_type": "code",
      "metadata": {
        "colab": {
          "base_uri": "https://localhost:8080/"
        },
        "id": "9bxnuUOpkkOZ",
        "outputId": "0e7be6f9-c902-4cf9-c9d4-bc70d840524e"
      },
      "source": [
        "cos_sim(model_w2v[\"valve\"],model_w2v[\"Défense\"])"
      ],
      "execution_count": null,
      "outputs": [
        {
          "output_type": "execute_result",
          "data": {
            "text/plain": [
              "0.12655103"
            ]
          },
          "metadata": {
            "tags": []
          },
          "execution_count": 115
        }
      ]
    },
    {
      "cell_type": "code",
      "metadata": {
        "colab": {
          "base_uri": "https://localhost:8080/"
        },
        "id": "PMLMIhP2j5LI",
        "outputId": "4378428e-79d2-469d-e0d8-eb2cdcfea7b8"
      },
      "source": [
        "cos_sim(model_w2v[\"beacon\"],vecteur_lieu)"
      ],
      "execution_count": null,
      "outputs": [
        {
          "output_type": "execute_result",
          "data": {
            "text/plain": [
              "0.428376"
            ]
          },
          "metadata": {
            "tags": []
          },
          "execution_count": 116
        }
      ]
    },
    {
      "cell_type": "code",
      "metadata": {
        "colab": {
          "base_uri": "https://localhost:8080/"
        },
        "id": "W4JYTqCinIIT",
        "outputId": "e706b1f3-16bf-4c8d-cb58-c8f7c662856c"
      },
      "source": [
        "def cree_features_mention(df):\n",
        "  data = []\n",
        "  for i  in df.index:\n",
        "    mention = df.loc[i,\"mention\"]\n",
        "    \n",
        "    if i%10 == 0 :\n",
        "      print(i)\n",
        "    mention= normalise_mention(mention)\n",
        "    is_norme = detecte_norme(mention)\n",
        "    is_lieu,is_geo,dist_lieu,dist_geo,dist_norme = contient_lieu_geo(mention,vecteur_lieu,vecteur_geo)\n",
        "    #dist_lieu,dist_geo,dist_norme = distances_procedes(mention,vecteur_lieu,vecteur_geo)\n",
        "    data.append([is_norme,contient_ordinal(mention),contient_superlatif(mention),is_lieu,dist_lieu,is_geo,dist_geo,dist_norme,contient_guillemet(mention)])\n",
        "\n",
        "  return pd.DataFrame(data,index=df.index,columns=[\"is_norme\",\"contient_ordinal\",\"contient_superlatif\",\"contient_lieu\",\"distance_lieu\",\"contient_geo\",\"distance_geo\",\"distance_norme\",\"contient_guillemet\"])"
      ],
      "execution_count": null,
      "outputs": [
        {
          "output_type": "stream",
          "text": [
            "1610\n",
            "1620\n",
            "1630\n",
            "1640\n",
            "La Défense in the west 1684\n",
            "1690\n",
            "La Défense in the west 1698\n",
            "1700\n",
            "1720\n",
            "1760\n",
            "LA DÉFENSE [DÉFENSE]\n",
            "1770\n",
            "1780\n",
            "1810\n",
            "1820\n",
            "La Défense in the west central area of the city 1826\n",
            "1830\n",
            "1840\n",
            "1860\n",
            "1870\n",
            "1880\n",
            "1890\n",
            "1900\n",
            "1910\n",
            "1920\n",
            "1930\n",
            "1940\n",
            "1950\n",
            "1960\n",
            "1970\n",
            "1980\n",
            "1990\n",
            "2000\n",
            "its new post-Brexit home 2005\n",
            "2020\n",
            "2030\n",
            "2050\n",
            "2060\n",
            "2070\n",
            "2080\n",
            "2100\n",
            "2120\n",
            "2130\n",
            "2140\n",
            "2160\n",
            "2170\n",
            "Paris's safety valve for office space 2171\n",
            "2180\n",
            "2190\n",
            "2200\n",
            "2210\n"
          ],
          "name": "stdout"
        }
      ]
    },
    {
      "cell_type": "code",
      "metadata": {
        "id": "rG_TT7t_mrsc"
      },
      "source": [
        "df_features = cree_features_mention(df)"
      ],
      "execution_count": null,
      "outputs": []
    },
    {
      "cell_type": "code",
      "metadata": {
        "id": "Glz9geJwqmwS"
      },
      "source": [
        "df_features.to_csv(chemin+\"/Corpus/features_EN_mentions_Defense.csv\",sep=\",\")"
      ],
      "execution_count": null,
      "outputs": []
    },
    {
      "cell_type": "code",
      "metadata": {
        "colab": {
          "base_uri": "https://localhost:8080/",
          "height": 417
        },
        "id": "4XSFVVOXs1TW",
        "outputId": "b66509a0-1ba4-4a94-ab74-143b4603c1f5"
      },
      "source": [
        "df_features"
      ],
      "execution_count": null,
      "outputs": [
        {
          "output_type": "execute_result",
          "data": {
            "text/html": [
              "<div>\n",
              "<style scoped>\n",
              "    .dataframe tbody tr th:only-of-type {\n",
              "        vertical-align: middle;\n",
              "    }\n",
              "\n",
              "    .dataframe tbody tr th {\n",
              "        vertical-align: top;\n",
              "    }\n",
              "\n",
              "    .dataframe thead th {\n",
              "        text-align: right;\n",
              "    }\n",
              "</style>\n",
              "<table border=\"1\" class=\"dataframe\">\n",
              "  <thead>\n",
              "    <tr style=\"text-align: right;\">\n",
              "      <th></th>\n",
              "      <th>is_norme</th>\n",
              "      <th>contient_ordinal</th>\n",
              "      <th>contient_superlatif</th>\n",
              "      <th>contient_lieu</th>\n",
              "      <th>distance_lieu</th>\n",
              "      <th>contient_geo</th>\n",
              "      <th>distance_geo</th>\n",
              "      <th>distance_norme</th>\n",
              "      <th>contient_guillemet</th>\n",
              "    </tr>\n",
              "  </thead>\n",
              "  <tbody>\n",
              "    <tr>\n",
              "      <th>1610</th>\n",
              "      <td>0</td>\n",
              "      <td>0</td>\n",
              "      <td>0</td>\n",
              "      <td>0</td>\n",
              "      <td>0.230985</td>\n",
              "      <td>1</td>\n",
              "      <td>0.297212</td>\n",
              "      <td>0.469245</td>\n",
              "      <td>0</td>\n",
              "    </tr>\n",
              "    <tr>\n",
              "      <th>1611</th>\n",
              "      <td>0</td>\n",
              "      <td>0</td>\n",
              "      <td>0</td>\n",
              "      <td>0</td>\n",
              "      <td>0.230985</td>\n",
              "      <td>1</td>\n",
              "      <td>0.297212</td>\n",
              "      <td>0.469245</td>\n",
              "      <td>0</td>\n",
              "    </tr>\n",
              "    <tr>\n",
              "      <th>1616</th>\n",
              "      <td>0</td>\n",
              "      <td>0</td>\n",
              "      <td>0</td>\n",
              "      <td>0</td>\n",
              "      <td>0.230985</td>\n",
              "      <td>1</td>\n",
              "      <td>0.297212</td>\n",
              "      <td>0.469245</td>\n",
              "      <td>0</td>\n",
              "    </tr>\n",
              "    <tr>\n",
              "      <th>1618</th>\n",
              "      <td>0</td>\n",
              "      <td>0</td>\n",
              "      <td>0</td>\n",
              "      <td>1</td>\n",
              "      <td>0.730576</td>\n",
              "      <td>1</td>\n",
              "      <td>0.488771</td>\n",
              "      <td>0.239641</td>\n",
              "      <td>0</td>\n",
              "    </tr>\n",
              "    <tr>\n",
              "      <th>1620</th>\n",
              "      <td>0</td>\n",
              "      <td>0</td>\n",
              "      <td>0</td>\n",
              "      <td>1</td>\n",
              "      <td>0.730576</td>\n",
              "      <td>0</td>\n",
              "      <td>0.488771</td>\n",
              "      <td>0.239641</td>\n",
              "      <td>0</td>\n",
              "    </tr>\n",
              "    <tr>\n",
              "      <th>...</th>\n",
              "      <td>...</td>\n",
              "      <td>...</td>\n",
              "      <td>...</td>\n",
              "      <td>...</td>\n",
              "      <td>...</td>\n",
              "      <td>...</td>\n",
              "      <td>...</td>\n",
              "      <td>...</td>\n",
              "      <td>...</td>\n",
              "    </tr>\n",
              "    <tr>\n",
              "      <th>2206</th>\n",
              "      <td>0</td>\n",
              "      <td>0</td>\n",
              "      <td>0</td>\n",
              "      <td>1</td>\n",
              "      <td>0.730576</td>\n",
              "      <td>0</td>\n",
              "      <td>0.488771</td>\n",
              "      <td>0.239641</td>\n",
              "      <td>0</td>\n",
              "    </tr>\n",
              "    <tr>\n",
              "      <th>2208</th>\n",
              "      <td>1</td>\n",
              "      <td>0</td>\n",
              "      <td>0</td>\n",
              "      <td>0</td>\n",
              "      <td>0.301100</td>\n",
              "      <td>0</td>\n",
              "      <td>0.519467</td>\n",
              "      <td>1.000000</td>\n",
              "      <td>0</td>\n",
              "    </tr>\n",
              "    <tr>\n",
              "      <th>2209</th>\n",
              "      <td>0</td>\n",
              "      <td>0</td>\n",
              "      <td>0</td>\n",
              "      <td>1</td>\n",
              "      <td>0.730576</td>\n",
              "      <td>1</td>\n",
              "      <td>0.488771</td>\n",
              "      <td>0.239641</td>\n",
              "      <td>0</td>\n",
              "    </tr>\n",
              "    <tr>\n",
              "      <th>2210</th>\n",
              "      <td>1</td>\n",
              "      <td>0</td>\n",
              "      <td>0</td>\n",
              "      <td>0</td>\n",
              "      <td>0.301100</td>\n",
              "      <td>0</td>\n",
              "      <td>0.519467</td>\n",
              "      <td>1.000000</td>\n",
              "      <td>0</td>\n",
              "    </tr>\n",
              "    <tr>\n",
              "      <th>2211</th>\n",
              "      <td>0</td>\n",
              "      <td>0</td>\n",
              "      <td>0</td>\n",
              "      <td>1</td>\n",
              "      <td>0.730576</td>\n",
              "      <td>1</td>\n",
              "      <td>0.488771</td>\n",
              "      <td>0.239641</td>\n",
              "      <td>0</td>\n",
              "    </tr>\n",
              "  </tbody>\n",
              "</table>\n",
              "<p>453 rows × 9 columns</p>\n",
              "</div>"
            ],
            "text/plain": [
              "      is_norme  contient_ordinal  ...  distance_norme  contient_guillemet\n",
              "1610         0                 0  ...        0.469245                   0\n",
              "1611         0                 0  ...        0.469245                   0\n",
              "1616         0                 0  ...        0.469245                   0\n",
              "1618         0                 0  ...        0.239641                   0\n",
              "1620         0                 0  ...        0.239641                   0\n",
              "...        ...               ...  ...             ...                 ...\n",
              "2206         0                 0  ...        0.239641                   0\n",
              "2208         1                 0  ...        1.000000                   0\n",
              "2209         0                 0  ...        0.239641                   0\n",
              "2210         1                 0  ...        1.000000                   0\n",
              "2211         0                 0  ...        0.239641                   0\n",
              "\n",
              "[453 rows x 9 columns]"
            ]
          },
          "metadata": {
            "tags": []
          },
          "execution_count": 119
        }
      ]
    }
  ]
}